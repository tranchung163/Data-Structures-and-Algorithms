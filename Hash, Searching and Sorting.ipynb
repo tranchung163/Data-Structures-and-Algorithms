{
 "cells": [
  {
   "cell_type": "markdown",
   "id": "f769aace",
   "metadata": {},
   "source": [
    "# Implementation of Sequential Search"
   ]
  },
  {
   "cell_type": "code",
   "execution_count": 20,
   "id": "7ab6815d",
   "metadata": {},
   "outputs": [],
   "source": [
    "def seq_search(arr, ele):\n",
    "    \n",
    "    pos = 0\n",
    "    res = False\n",
    "    \n",
    "    while pos < len(arr) and not res:\n",
    "        if ele == arr[pos]:\n",
    "            res = True               \n",
    "        pos +=1\n",
    "    return res\n",
    "\n",
    "def order_seq_search(arr, ele):\n",
    "    \n",
    "    pos = 0\n",
    "    found = False\n",
    "    stop = False\n",
    "    \n",
    "    while pos < len(arr) and not found and not stop:\n",
    "        if ele == arr[pos]:\n",
    "            found = True\n",
    "           \n",
    "        else:\n",
    "            if arr[pos] > ele:\n",
    "                stop = True\n",
    "            else:\n",
    "                pos += 1\n",
    "    return found\n",
    "\n"
   ]
  },
  {
   "cell_type": "code",
   "execution_count": 21,
   "id": "644d24ba",
   "metadata": {},
   "outputs": [
    {
     "data": {
      "text/plain": [
       "True"
      ]
     },
     "execution_count": 21,
     "metadata": {},
     "output_type": "execute_result"
    }
   ],
   "source": [
    "seq_search([11,222,33,44,5,6], 11)"
   ]
  },
  {
   "cell_type": "code",
   "execution_count": 23,
   "id": "90c53bd8",
   "metadata": {},
   "outputs": [
    {
     "data": {
      "text/plain": [
       "True"
      ]
     },
     "execution_count": 23,
     "metadata": {},
     "output_type": "execute_result"
    }
   ],
   "source": [
    "order_seq_search([1,2,3,4,5,6,7], 5)"
   ]
  },
  {
   "cell_type": "markdown",
   "id": "d359a34e",
   "metadata": {},
   "source": [
    "# Binary Search\n"
   ]
  },
  {
   "cell_type": "code",
   "execution_count": 38,
   "id": "1b925418",
   "metadata": {},
   "outputs": [],
   "source": [
    "def BinarySearch(arr, ele):\n",
    "    \n",
    "    mid = (len(arr)//2)\n",
    "    found = False\n",
    "    first = 0\n",
    "    last = len(arr)  \n",
    "    \n",
    "    if ele > arr[mid-1]:\n",
    "        for i in range(mid, last):\n",
    "            if ele == arr[i]:\n",
    "                found = True\n",
    "    if ele < arr[mid+1]:\n",
    "        for i in range(first, mid):\n",
    "            if ele == arr[i]:\n",
    "                found = True\n",
    "    return found\n",
    "        "
   ]
  },
  {
   "cell_type": "code",
   "execution_count": 45,
   "id": "b14fc426",
   "metadata": {},
   "outputs": [
    {
     "data": {
      "text/plain": [
       "False"
      ]
     },
     "execution_count": 45,
     "metadata": {},
     "output_type": "execute_result"
    }
   ],
   "source": [
    "BinarySearch([1,2,3,4,5,6,7], 8)"
   ]
  },
  {
   "cell_type": "code",
   "execution_count": 51,
   "id": "63875979",
   "metadata": {},
   "outputs": [],
   "source": [
    "def Rec_BS(arr, ele):\n",
    "    mid = (len(arr)//2)\n",
    "    if len(arr) == 0:\n",
    "        return False\n",
    "    else:\n",
    "        if ele == arr[mid]:\n",
    "            return True\n",
    "        else:\n",
    "            if ele < arr[mid]:\n",
    "                return Rec_BS(arr[:mid], ele)\n",
    "            else:\n",
    "                return Rec_BS(arr[mid+1:], ele)\n",
    "        \n",
    "        \n",
    "        "
   ]
  },
  {
   "cell_type": "code",
   "execution_count": 59,
   "id": "16989941",
   "metadata": {},
   "outputs": [
    {
     "data": {
      "text/plain": [
       "False"
      ]
     },
     "execution_count": 59,
     "metadata": {},
     "output_type": "execute_result"
    }
   ],
   "source": [
    "Rec_BS([1,2,3,4,5,6,7], 8)"
   ]
  },
  {
   "cell_type": "markdown",
   "id": "fc45703c",
   "metadata": {},
   "source": [
    "# Hash Table"
   ]
  },
  {
   "cell_type": "code",
   "execution_count": 46,
   "id": "1b7412ad",
   "metadata": {},
   "outputs": [],
   "source": [
    "class HashTable:\n",
    "    \n",
    "    def __init__(self, size):\n",
    "        self.size = size\n",
    "        self.slots = [None]*self.size\n",
    "        self.val = [None]*self.size\n",
    "        \n",
    "    def put(self, key, val):\n",
    "        \n",
    "        hashvalue = self.hashFunct(key, len(self.slots))\n",
    "        \n",
    "        if self.slots[hashvalue] == None:\n",
    "            self.slots[hashvalue] = key\n",
    "            self.val[hashvalue] = val\n",
    "            \n",
    "        else:\n",
    "            if self.slots[hashvalue] == key:\n",
    "                self.val[hashvalue] = val\n",
    "            else:\n",
    "                next_slot = self.reHash(key, len(self.slots))\n",
    "                while self.slots[next_slot] != None and self.slots[next_slot] != key:\n",
    "                    next_slot = self.reHash(next_slot, len(self.slots))\n",
    "                if self.slots[next_slot] == None:\n",
    "                    self.slots[next_slot] = key\n",
    "                    self.val[next_slot] = val\n",
    "                else:\n",
    "                    self.slots[next_slot] = val\n",
    "            \n",
    "            \n",
    "        \n",
    "        \n",
    "    def hashFunct(self, key, size):\n",
    "        return key % size\n",
    "        \n",
    "    def reHash(self, key, size):\n",
    "        return (key+1)%size\n",
    "        \n",
    "        \n",
    "    def get(self, key):\n",
    "        \n",
    "        startslot = self.hashFunct(key, len(self.slots))\n",
    "        position = startslot\n",
    "        found = False\n",
    "        stop = False\n",
    "        \n",
    "        \n",
    "        while self.slots[position] != None and not found and not stop:\n",
    "            \n",
    "            if self.slots[position] == key:\n",
    "                return position\n",
    "                found = True\n",
    "            else:\n",
    "                position = self.reHash(position, len(self.slots))\n",
    "                if position == startslot:\n",
    "                    stop = True\n",
    "                    \n",
    "    def delete(self, key):\n",
    "        key_delete = self.get(key)\n",
    "        self.slots[key_delete] = None\n",
    "        self.val[key_delete] = None\n",
    "\n",
    "    def __get__(self, key):\n",
    "        data = self.get(key)\n",
    "        return self.val[data]\n",
    "        \n",
    "        \n",
    "            \n",
    "        "
   ]
  },
  {
   "cell_type": "code",
   "execution_count": 47,
   "id": "fd76f1b8",
   "metadata": {},
   "outputs": [],
   "source": [
    "hashtable = HashTable(10)\n",
    "hashtable.put(15, \"one\")\n",
    "hashtable.put(16, \"two\")\n",
    "hashtable.put(17, \"three\")\n"
   ]
  },
  {
   "cell_type": "code",
   "execution_count": 48,
   "id": "ce9c2ffd",
   "metadata": {},
   "outputs": [
    {
     "name": "stdout",
     "output_type": "stream",
     "text": [
      "two\n",
      "17\n"
     ]
    }
   ],
   "source": [
    "print(hashtable.val[6])\n",
    "print(hashtable.slots[7])"
   ]
  },
  {
   "cell_type": "code",
   "execution_count": 49,
   "id": "f2caf95f",
   "metadata": {},
   "outputs": [
    {
     "name": "stdout",
     "output_type": "stream",
     "text": [
      "25\n",
      "29\n",
      "five\n",
      "five2\n",
      "six\n"
     ]
    }
   ],
   "source": [
    "\n",
    "hashtable.put(25, \"four\")\n",
    "print(hashtable.slots[8])\n",
    "\n",
    "hashtable.put(29, \"five\")\n",
    "print(hashtable.slots[9])\n",
    "\n",
    "hashtable.put(30, \"five2\")\n",
    "print(hashtable.val[9])\n",
    "\n",
    "hashtable.put(35, \"six\")\n",
    "print(hashtable.val[0])\n",
    "\n",
    "print(hashtable.val[1])\n"
   ]
  },
  {
   "cell_type": "code",
   "execution_count": 50,
   "id": "57dcb495",
   "metadata": {},
   "outputs": [
    {
     "name": "stdout",
     "output_type": "stream",
     "text": [
      "one\n"
     ]
    }
   ],
   "source": [
    "print(hashtable.__get__(15))"
   ]
  },
  {
   "cell_type": "code",
   "execution_count": 51,
   "id": "c18e91a9",
   "metadata": {},
   "outputs": [
    {
     "name": "stdout",
     "output_type": "stream",
     "text": [
      "four\n",
      "None\n"
     ]
    }
   ],
   "source": [
    "print(hashtable.val[8])\n",
    "hashtable.delete(25)\n",
    "print(hashtable.val[8])"
   ]
  },
  {
   "cell_type": "markdown",
   "id": "3e40221b",
   "metadata": {},
   "source": [
    "# Sorting"
   ]
  },
  {
   "cell_type": "code",
   "execution_count": 20,
   "id": "8b60772e",
   "metadata": {},
   "outputs": [],
   "source": [
    "def bubleSort(arr):\n",
    "    \n",
    "    for i in range(len(arr) -1, 0, -1):\n",
    "        for j in range(i):\n",
    "            if arr[j] > arr[j+1]:\n",
    "                temp = arr[j]\n",
    "                arr[j] = arr[j+1]\n",
    "                arr[j+1] = temp"
   ]
  },
  {
   "cell_type": "code",
   "execution_count": 21,
   "id": "7961b8cf",
   "metadata": {},
   "outputs": [
    {
     "name": "stdout",
     "output_type": "stream",
     "text": [
      "5\n",
      "range(0, 5)\n",
      "4\n",
      "range(0, 4)\n",
      "3\n",
      "range(0, 3)\n",
      "2\n",
      "range(0, 2)\n",
      "1\n",
      "range(0, 1)\n"
     ]
    }
   ],
   "source": [
    "for i in range(len([11,22,33,44,55,66])-1,0,-1):\n",
    "    print(i)\n",
    "    print(range(i))"
   ]
  },
  {
   "cell_type": "code",
   "execution_count": 22,
   "id": "6b914bc2",
   "metadata": {},
   "outputs": [
    {
     "name": "stdout",
     "output_type": "stream",
     "text": [
      "[1, 36, 51, 52, 63, 78]\n"
     ]
    }
   ],
   "source": [
    "arr = [51,1,63,52,36,78]\n",
    "bubleSort(arr)\n",
    "print(arr)"
   ]
  },
  {
   "cell_type": "code",
   "execution_count": 79,
   "id": "42a15cbc",
   "metadata": {},
   "outputs": [],
   "source": [
    "def selectionSort(arr):\n",
    "    for i in range(len(arr)-1,0,-1):\n",
    "        max_position = 0\n",
    "        for j in range(1, i+1):\n",
    "            if arr[j] > arr[max_position]:\n",
    "                max_position = j\n",
    "        temp = arr[i]\n",
    "        arr[i] = arr[max_position]\n",
    "        arr[max_position] = temp\n",
    "        \n",
    "def selectionSort1(arr):\n",
    "    for i in range(len(arr)-1,0,-1):\n",
    "        min_position = 0\n",
    "        for j in range(1, i+1):\n",
    "            if arr[j] < arr[min_position]:\n",
    "                min_position = j\n",
    "        temp = arr[min_position]\n",
    "        arr[min_position] = arr[i]\n",
    "        arr[i] = temp\n",
    "            \n",
    "    "
   ]
  },
  {
   "cell_type": "code",
   "execution_count": 80,
   "id": "a7ae072f",
   "metadata": {},
   "outputs": [
    {
     "name": "stdout",
     "output_type": "stream",
     "text": [
      "[1, 36, 51, 52, 63, 78]\n"
     ]
    }
   ],
   "source": [
    "arr = [51,1,63,52,36,78]\n",
    "selectionSort(arr)\n",
    "print(arr)"
   ]
  },
  {
   "cell_type": "code",
   "execution_count": 81,
   "id": "5fdc9603",
   "metadata": {},
   "outputs": [
    {
     "name": "stdout",
     "output_type": "stream",
     "text": [
      "[78, 63, 52, 51, 36, 1]\n"
     ]
    }
   ],
   "source": [
    "arr1 = [51,1,63,52,36,78]\n",
    "selectionSort1(arr1)\n",
    "print(arr1)"
   ]
  },
  {
   "cell_type": "code",
   "execution_count": null,
   "id": "cb91656c",
   "metadata": {},
   "outputs": [],
   "source": []
  }
 ],
 "metadata": {
  "kernelspec": {
   "display_name": "Python 3",
   "language": "python",
   "name": "python3"
  },
  "language_info": {
   "codemirror_mode": {
    "name": "ipython",
    "version": 3
   },
   "file_extension": ".py",
   "mimetype": "text/x-python",
   "name": "python",
   "nbconvert_exporter": "python",
   "pygments_lexer": "ipython3",
   "version": "3.8.8"
  }
 },
 "nbformat": 4,
 "nbformat_minor": 5
}
