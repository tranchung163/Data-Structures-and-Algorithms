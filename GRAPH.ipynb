{
 "cells": [
  {
   "cell_type": "markdown",
   "id": "88636973",
   "metadata": {},
   "source": [
    "# 1"
   ]
  },
  {
   "cell_type": "code",
   "execution_count": 2,
   "id": "ee7975ef",
   "metadata": {},
   "outputs": [],
   "source": [
    " #   A-->C----|\n",
    " #  |   |    E\n",
    " #  |   |    |\n",
    " #  B-->D----"
   ]
  },
  {
   "cell_type": "code",
   "execution_count": 3,
   "id": "5da34a96",
   "metadata": {},
   "outputs": [],
   "source": [
    "class Graph:\n",
    "    def __init__(self, Node, is_directed = False):\n",
    "        self.node = Node\n",
    "        self.adj_list = {}\n",
    "        self.is_directed = is_directed\n",
    "        \n",
    "        for node in self.node:\n",
    "            self.adj_list[node] = []\n",
    "    \n",
    "    def print_adj(self):\n",
    "        for node in self.node:\n",
    "            print(node, \"-->\", self.adj_list[node])\n",
    "    \n",
    "    def add_edge(self, u, v):\n",
    "        self.adj_list[u].append(v)\n",
    "        if not self.is_directed:\n",
    "            self.adj_list[v].append(u)\n",
    "    \n",
    "    #Edges of a vertex\n",
    "    def degree(self, node):\n",
    "        deg = len(self.adj_list[node])\n",
    "        return deg\n",
    "            \n",
    "    "
   ]
  },
  {
   "cell_type": "code",
   "execution_count": 4,
   "id": "ebd401ea",
   "metadata": {},
   "outputs": [
    {
     "name": "stdout",
     "output_type": "stream",
     "text": [
      "A --> []\n",
      "B --> []\n",
      "C --> []\n",
      "D --> []\n",
      "E --> []\n"
     ]
    }
   ],
   "source": [
    "nodes = [\"A\",\"B\",\"C\",\"D\",\"E\"]\n",
    "graph = Graph(nodes, is_directed = True)\n",
    "graph.print_adj()"
   ]
  },
  {
   "cell_type": "code",
   "execution_count": 6,
   "id": "3576d757",
   "metadata": {},
   "outputs": [
    {
     "name": "stdout",
     "output_type": "stream",
     "text": [
      "A B\n",
      "A C\n",
      "B D\n",
      "C D\n",
      "C E\n",
      "D E\n"
     ]
    }
   ],
   "source": [
    "\n",
    "#graph.add_edge(\"A\",\"B\")\n",
    "#graph.print_adj()\n",
    "\n",
    "\n",
    "all_edges1 = [\n",
    "    (\"A\",\"B\"), (\"A\",\"C\"), (\"B\",\"D\"), (\"C\",\"D\"),(\"C\",\"E\"),(\"D\",\"E\")\n",
    "]\n",
    "for u,v in all_edges1:\n",
    "    print(u,v)\n",
    "    \n",
    "    \n",
    "# A ---> [B]\n",
    "# B --> [A]\n",
    "\n",
    "\n",
    "# A -- > [C]\n",
    "# C --> [A]\n",
    "#....."
   ]
  },
  {
   "cell_type": "code",
   "execution_count": 8,
   "id": "ef163145",
   "metadata": {},
   "outputs": [
    {
     "name": "stdout",
     "output_type": "stream",
     "text": [
      "A --> ['B', 'C', 'B', 'C']\n",
      "B --> ['D', 'D']\n",
      "C --> ['D', 'E', 'D', 'E']\n",
      "D --> ['E', 'E']\n",
      "E --> []\n",
      "Degree of C: 4\n"
     ]
    }
   ],
   "source": [
    "#One way\n",
    "all_edges = [\n",
    "    (\"A\",\"B\"), (\"A\",\"C\"), (\"B\",\"D\"), (\"C\",\"D\"),(\"C\",\"E\"),(\"D\",\"E\")\n",
    "]\n",
    "for u,v in all_edges:\n",
    "    graph.add_edge(u,v)\n",
    "graph.print_adj()\n",
    "\n",
    "print(\"Degree of C:\", graph.degree(\"C\"))\n",
    "    "
   ]
  },
  {
   "cell_type": "markdown",
   "id": "202a9bf9",
   "metadata": {},
   "source": [
    "# 2"
   ]
  },
  {
   "cell_type": "code",
   "execution_count": 71,
   "id": "9142621b",
   "metadata": {},
   "outputs": [],
   "source": [
    "class Vertex:\n",
    "    \n",
    "    def __init__(self, key):\n",
    "        self.id = key\n",
    "        self.connectedTo = {}\n",
    "        \n",
    "    def addNeighbor(self, nbr, weight = 0):\n",
    "        self.connectedTo[nbr] = weight\n",
    "    \n",
    "    def getConnections(self):\n",
    "        return self.connectedTo.keys()\n",
    "    \n",
    "    def getValue(self):\n",
    "        return self.connectedTo.values()\n",
    "\n",
    "    def get_id(self):\n",
    "        return self.id\n",
    "    \n",
    "    def getWeight(self, nbr):\n",
    "        return self.connectedTo[nbr]\n",
    "    \n",
    "    def __str__(self):\n",
    "        return (str(self.id) + \" Connected to\" + str([x.id for x in self.connectedTo])) \n",
    "        "
   ]
  },
  {
   "cell_type": "code",
   "execution_count": 72,
   "id": "c34cf472",
   "metadata": {},
   "outputs": [],
   "source": [
    "class Graph(Vertex):\n",
    "    def __init__(self):\n",
    "        self.vertList = {}\n",
    "        self.numVertices = 0\n",
    "        \n",
    "    def addVertex(self, key):\n",
    "        self.numVertices += 1\n",
    "        newVert = Vertex(key)\n",
    "        self.vertList[key] = newVert\n",
    "        return newVert\n",
    "    \n",
    "    def getVertex(self, n):\n",
    "        if n in self.vertList:\n",
    "            return self.vertList[n]\n",
    "        else:\n",
    "            return None\n",
    "        \n",
    "    def addEdge(self, fromVert, toVert, cost = 0):\n",
    "        if fromVert not in self.vertList:\n",
    "            nv = self.addVertex(fromVert)\n",
    "            \n",
    "        if toVert not in self.vertList:\n",
    "            nv = self.addVertex(toVert)\n",
    "            \n",
    "        self.vertList[fromVert].addNeighbor(self.vertList[toVert], cost)\n",
    "        \n",
    "    def getVertices(self):\n",
    "        return self.vertList.keys()\n",
    "    \n",
    "    def __iter__(self):\n",
    "        return iter(self.vertList.values())\n",
    "    \n",
    "    def __contains__(self, n):\n",
    "        return n in self.vertList\n",
    "    \n",
    "        \n",
    "            "
   ]
  },
  {
   "cell_type": "code",
   "execution_count": 73,
   "id": "343182db",
   "metadata": {},
   "outputs": [],
   "source": [
    "g = Graph()\n",
    "for i in range(6):\n",
    "    g.addVertex(i)\n",
    "    "
   ]
  },
  {
   "cell_type": "code",
   "execution_count": 74,
   "id": "42570063",
   "metadata": {
    "scrolled": true
   },
   "outputs": [
    {
     "data": {
      "text/plain": [
       "{0: <__main__.Vertex at 0x2058df1b520>,\n",
       " 1: <__main__.Vertex at 0x2058d690eb0>,\n",
       " 2: <__main__.Vertex at 0x2058d6254c0>,\n",
       " 3: <__main__.Vertex at 0x2058e04bbb0>,\n",
       " 4: <__main__.Vertex at 0x2058e04b0d0>,\n",
       " 5: <__main__.Vertex at 0x2058e04b100>}"
      ]
     },
     "execution_count": 74,
     "metadata": {},
     "output_type": "execute_result"
    }
   ],
   "source": [
    "g.vertList"
   ]
  },
  {
   "cell_type": "code",
   "execution_count": 75,
   "id": "8027c1f4",
   "metadata": {},
   "outputs": [],
   "source": [
    "g.addEdge(1,3,5)\n",
    "g.vertList\n",
    "g.__contains__\n",
    "g.__iter__\n",
    "g.addEdge(1,6,7)"
   ]
  },
  {
   "cell_type": "code",
   "execution_count": 76,
   "id": "a705f81e",
   "metadata": {},
   "outputs": [
    {
     "name": "stdout",
     "output_type": "stream",
     "text": [
      "0 Connected to[]\n",
      "dict_keys([])\n",
      "dict_values([])\n",
      "\n",
      "\n",
      "1 Connected to[3, 6]\n",
      "dict_keys([<__main__.Vertex object at 0x000002058E04BBB0>, <__main__.Vertex object at 0x000002058D5E6280>])\n",
      "dict_values([5, 7])\n",
      "\n",
      "\n",
      "2 Connected to[]\n",
      "dict_keys([])\n",
      "dict_values([])\n",
      "\n",
      "\n",
      "3 Connected to[]\n",
      "dict_keys([])\n",
      "dict_values([])\n",
      "\n",
      "\n",
      "4 Connected to[]\n",
      "dict_keys([])\n",
      "dict_values([])\n",
      "\n",
      "\n",
      "5 Connected to[]\n",
      "dict_keys([])\n",
      "dict_values([])\n",
      "\n",
      "\n",
      "6 Connected to[]\n",
      "dict_keys([])\n",
      "dict_values([])\n",
      "\n",
      "\n"
     ]
    }
   ],
   "source": [
    "for vertex in g:\n",
    "    print(vertex)\n",
    "    print(vertex.getConnections())\n",
    "    print(vertex.getValue())\n",
    "    print(\"\\n\")"
   ]
  },
  {
   "cell_type": "code",
   "execution_count": null,
   "id": "fc30f8c4",
   "metadata": {},
   "outputs": [],
   "source": []
  },
  {
   "cell_type": "markdown",
   "id": "a5c58cce",
   "metadata": {},
   "source": [
    "# Word Ladder Problem\n"
   ]
  },
  {
   "cell_type": "code",
   "execution_count": 2,
   "id": "197c845f",
   "metadata": {},
   "outputs": [],
   "source": [
    "class Vertex:\n",
    "    \n",
    "    def __init__(self, key):\n",
    "        self.id = key\n",
    "        self.connectedTo = {}\n",
    "        \n",
    "    def addNeighbor(self, nbr, weight = 0):\n",
    "        self.connectedTo[nbr] = weight\n",
    "        \n",
    "    def __str__(self):\n",
    "        return (str(self.id) + \" Connected to: \" + str([x.id for x in self.connectedTo]))\n",
    "    \n",
    "    def getConnections(self):\n",
    "        return self.connectedTo.keys()\n",
    "    \n",
    "    def getWeight(self, n):\n",
    "        return self.connectedTo[n]\n",
    "    \n",
    "    def getValues(self):\n",
    "        return self.connectedTo.values()\n",
    "    \n",
    "        "
   ]
  },
  {
   "cell_type": "code",
   "execution_count": 59,
   "id": "93b2202c",
   "metadata": {},
   "outputs": [],
   "source": [
    "class Graph(Vertex):\n",
    "    def __init__(self):\n",
    "        self.vertList = {}\n",
    "        self.numVertices = 0\n",
    "        \n",
    "    def addVertex(self, key):\n",
    "        self.numVertices += 1\n",
    "        new_vertex = Vertex(key)\n",
    "        self.vertList[key] = new_vertex\n",
    "        return new_vertex\n",
    "    def addEdge(self, fromVer, toVer, cost = 0):\n",
    "        if fromVer not in self.vertList:\n",
    "            self.addVertex(fromVer)\n",
    "        if toVer not in self.vertList:\n",
    "            self.addVertex(toVer)\n",
    "            \n",
    "        self.vertList[fromVer].addNeighbor(self.vertList[toVer],cost)\n",
    "    def __iter__(self):\n",
    "        return iter(self.vertList.values())\n",
    "    \n",
    "    def __contains__(self, n):\n",
    "        return n in self.vertList\n",
    "    "
   ]
  },
  {
   "cell_type": "code",
   "execution_count": 77,
   "id": "8e92c2c5",
   "metadata": {},
   "outputs": [],
   "source": [
    "from collections import defaultdict\n",
    "def buildGraph1(wordFile):\n",
    "    d = defaultdict(list)\n",
    "    g = Graph()\n",
    "    \n",
    "    wfile = open(wordFile, \"r\")\n",
    "    \n",
    "    for line in wfile:\n",
    "        print(line)\n",
    "        word = line[:-1]\n",
    "        print(word)\n",
    "        for i in range(len(word)):\n",
    "            bucket = word[:i] + \"_\" + word[i+1:]\n",
    "            if bucket in d:\n",
    "                d[bucket].append(word)\n",
    "            else:\n",
    "                d[bucket] = [word]\n",
    "    print(d)          \n",
    "    for bucket in d:\n",
    "        for word1 in d[bucket]:\n",
    "            for word2 in d[bucket]:\n",
    "                if word1 != word2:\n",
    "                    g.addEdge(word1,word2)\n",
    "    count = 0\n",
    "    for vertex in g:\n",
    "        print(vertex)\n",
    "        print(vertex.getConnections())\n",
    "        print(vertex.getValues())\n",
    "        count += 1\n",
    "        print(count)\n",
    "    \n",
    "    "
   ]
  },
  {
   "cell_type": "code",
   "execution_count": 78,
   "id": "32fcc837",
   "metadata": {
    "scrolled": true
   },
   "outputs": [
    {
     "name": "stdout",
     "output_type": "stream",
     "text": [
      "pope\n",
      "\n",
      "pope\n",
      "rope\n",
      "\n",
      "rope\n",
      "sage\n",
      "\n",
      "sage\n",
      "best\n",
      "\n",
      "best\n",
      "ripe\n",
      "\n",
      "ripe\n",
      "pipe\n",
      "\n",
      "pipe\n",
      "rape\n",
      "\n",
      "rape\n",
      "rage\n",
      "\n",
      "rage\n",
      "defaultdict(<class 'list'>, {'_ope': ['pope', 'rope'], 'p_pe': ['pope', 'pipe'], 'po_e': ['pope'], 'pop_': ['pope'], 'r_pe': ['rope', 'ripe', 'rape'], 'ro_e': ['rope'], 'rop_': ['rope'], '_age': ['sage', 'rage'], 's_ge': ['sage'], 'sa_e': ['sage'], 'sag_': ['sage'], '_est': ['best'], 'b_st': ['best'], 'be_t': ['best'], 'bes_': ['best'], '_ipe': ['ripe', 'pipe'], 'ri_e': ['ripe'], 'rip_': ['ripe'], 'pi_e': ['pipe'], 'pip_': ['pipe'], '_ape': ['rape'], 'ra_e': ['rape', 'rage'], 'rap_': ['rape'], 'r_ge': ['rage'], 'rag_': ['rage']})\n",
      "pope Connected to: ['rope', 'pipe']\n",
      "dict_keys([<__main__.Vertex object at 0x00000171B79DEDC0>, <__main__.Vertex object at 0x00000171B79DEEE0>])\n",
      "dict_values([0, 0])\n",
      "1\n",
      "rope Connected to: ['pope', 'ripe', 'rape']\n",
      "dict_keys([<__main__.Vertex object at 0x00000171B79DEB50>, <__main__.Vertex object at 0x00000171B79DE400>, <__main__.Vertex object at 0x00000171B79DE370>])\n",
      "dict_values([0, 0, 0])\n",
      "2\n",
      "pipe Connected to: ['pope', 'ripe']\n",
      "dict_keys([<__main__.Vertex object at 0x00000171B79DEB50>, <__main__.Vertex object at 0x00000171B79DE400>])\n",
      "dict_values([0, 0])\n",
      "3\n",
      "ripe Connected to: ['rope', 'rape', 'pipe']\n",
      "dict_keys([<__main__.Vertex object at 0x00000171B79DEDC0>, <__main__.Vertex object at 0x00000171B79DE370>, <__main__.Vertex object at 0x00000171B79DEEE0>])\n",
      "dict_values([0, 0, 0])\n",
      "4\n",
      "rape Connected to: ['rope', 'ripe', 'rage']\n",
      "dict_keys([<__main__.Vertex object at 0x00000171B79DEDC0>, <__main__.Vertex object at 0x00000171B79DE400>, <__main__.Vertex object at 0x00000171B79E2C40>])\n",
      "dict_values([0, 0, 0])\n",
      "5\n",
      "sage Connected to: ['rage']\n",
      "dict_keys([<__main__.Vertex object at 0x00000171B79E2C40>])\n",
      "dict_values([0])\n",
      "6\n",
      "rage Connected to: ['sage', 'rape']\n",
      "dict_keys([<__main__.Vertex object at 0x00000171B79E2970>, <__main__.Vertex object at 0x00000171B79DE370>])\n",
      "dict_values([0, 0])\n",
      "7\n"
     ]
    }
   ],
   "source": [
    "buildGraph1(\"wordladder.txt\")"
   ]
  },
  {
   "cell_type": "code",
   "execution_count": null,
   "id": "d04ae882",
   "metadata": {},
   "outputs": [],
   "source": []
  },
  {
   "cell_type": "code",
   "execution_count": 62,
   "id": "eb56a3fd",
   "metadata": {},
   "outputs": [
    {
     "data": {
      "text/plain": [
       "{0: <__main__.Vertex at 0x171b79d2730>,\n",
       " 1: <__main__.Vertex at 0x171b79d2040>,\n",
       " 2: <__main__.Vertex at 0x171b79d2520>,\n",
       " 3: <__main__.Vertex at 0x171b79d2850>,\n",
       " 4: <__main__.Vertex at 0x171b6f67e20>,\n",
       " 5: <__main__.Vertex at 0x171b79def70>}"
      ]
     },
     "execution_count": 62,
     "metadata": {},
     "output_type": "execute_result"
    }
   ],
   "source": [
    "g = Graph()\n",
    "for i in range(6):\n",
    "    g.addVertex(i)\n",
    "g.vertList"
   ]
  },
  {
   "cell_type": "code",
   "execution_count": 63,
   "id": "dcf18f23",
   "metadata": {},
   "outputs": [
    {
     "data": {
      "text/plain": [
       "False"
      ]
     },
     "execution_count": 63,
     "metadata": {},
     "output_type": "execute_result"
    }
   ],
   "source": [
    "g.addEdge(\"asd\",\"mnl\",2)\n",
    "g.vertList\n",
    "g.__contains__(8)\n",
    "\n"
   ]
  },
  {
   "cell_type": "code",
   "execution_count": 64,
   "id": "fb09c900",
   "metadata": {},
   "outputs": [
    {
     "name": "stdout",
     "output_type": "stream",
     "text": [
      "0 Connected to: []\n",
      "dict_keys([])\n",
      "dict_values([])\n",
      "1 Connected to: []\n",
      "dict_keys([])\n",
      "dict_values([])\n",
      "2 Connected to: []\n",
      "dict_keys([])\n",
      "dict_values([])\n",
      "3 Connected to: []\n",
      "dict_keys([])\n",
      "dict_values([])\n",
      "4 Connected to: []\n",
      "dict_keys([])\n",
      "dict_values([])\n",
      "5 Connected to: []\n",
      "dict_keys([])\n",
      "dict_values([])\n",
      "asd Connected to: ['mnl']\n",
      "dict_keys([<__main__.Vertex object at 0x00000171B79DE730>])\n",
      "dict_values([2])\n",
      "mnl Connected to: []\n",
      "dict_keys([])\n",
      "dict_values([])\n"
     ]
    }
   ],
   "source": [
    "for vertex in g:\n",
    "    print(vertex)\n",
    "    print(vertex.getConnections())\n",
    "    print(vertex.getValues())"
   ]
  },
  {
   "cell_type": "code",
   "execution_count": 24,
   "id": "be7de2be",
   "metadata": {},
   "outputs": [],
   "source": [
    "char= \"abcd\"\n",
    "d = {}\n",
    "word = char[:-1]"
   ]
  },
  {
   "cell_type": "code",
   "execution_count": 25,
   "id": "d1a8bf55",
   "metadata": {},
   "outputs": [],
   "source": [
    "for i in range(len(word)):\n",
    "    bucket = word[:i] + \"_\" + word[i+1:]\n",
    "    if bucket in d:\n",
    "        d[bucket].append(word)\n",
    "    else:\n",
    "        d[bucket] = [word]"
   ]
  },
  {
   "cell_type": "code",
   "execution_count": 26,
   "id": "6f8efadc",
   "metadata": {},
   "outputs": [
    {
     "name": "stdout",
     "output_type": "stream",
     "text": [
      "{'_bc': ['abc'], 'a_c': ['abc'], 'ab_': ['abc']}\n"
     ]
    }
   ],
   "source": [
    "print(d)"
   ]
  },
  {
   "cell_type": "markdown",
   "id": "2e46b073",
   "metadata": {},
   "source": [
    "# Wordladder problem 2 BFS"
   ]
  },
  {
   "cell_type": "code",
   "execution_count": 24,
   "id": "217ca251",
   "metadata": {},
   "outputs": [],
   "source": [
    "from collections import defaultdict\n",
    "from collections import deque\n",
    "class Solution:\n",
    "    def ladderLength(self, beginWord: str, endWord: str, wordList: [str]):\n",
    "        if endWord not in wordList:\n",
    "            return 0\n",
    "        nei = defaultdict(list)\n",
    "        wordList.append(beginWord)\n",
    "        for word in wordList:\n",
    "            for i in range(len(word)):\n",
    "                bucket = word[:i] + \"-\" + word[i+1:]\n",
    "                if bucket in nei:\n",
    "                    nei[bucket].append(word)\n",
    "                else:\n",
    "                    nei[bucket] = [word]\n",
    "        \n",
    "        visit = set([beginWord])\n",
    "        q = deque([beginWord])\n",
    "        res = 1\n",
    "        \n",
    "        while q:\n",
    "            for i in range(len(q)):\n",
    "                word = q.popleft()\n",
    "                if word == endWord:\n",
    "                    return res\n",
    "                for j in range(len(word)):\n",
    "                    pattern = word[:j] +\"-\"+ word[j+1:]    #hit- _it, h_t, _it\n",
    "                    for neiWord in nei[pattern]:        #h_t\n",
    "                        if neiWord not in visit:\n",
    "                            visit.add(neiWord)    #Add \"hot\"\n",
    "                            q.append(neiWord)     #append \"hot\"\n",
    "            res += 1\n",
    "        return 0"
   ]
  },
  {
   "cell_type": "code",
   "execution_count": 25,
   "id": "19a31a5d",
   "metadata": {},
   "outputs": [
    {
     "data": {
      "text/plain": [
       "5"
      ]
     },
     "execution_count": 25,
     "metadata": {},
     "output_type": "execute_result"
    }
   ],
   "source": [
    "solu = Solution()\n",
    "solu.ladderLength(\"hit\", \"cog\",[\"hot\",\"dot\",\"dog\",\"lot\",\"log\",\"cog\"])"
   ]
  },
  {
   "cell_type": "code",
   "execution_count": 6,
   "id": "fe0c38e1",
   "metadata": {},
   "outputs": [
    {
     "name": "stdout",
     "output_type": "stream",
     "text": [
      "defaultdict(<class 'list'>, {'_ot': ['hot', 'dot', 'lot'], 'h_t': ['hot'], 'ho_': ['hot'], 'd_t': ['dot'], 'do_': ['dot', 'dog'], '_og': ['dog', 'log', 'cog'], 'd_g': ['dog'], 'l_t': ['lot'], 'lo_': ['lot', 'log'], 'l_g': ['log'], 'c_g': ['cog'], 'co_': ['cog']})\n"
     ]
    }
   ],
   "source": [
    "from collections import defaultdict\n",
    "nei = defaultdict(list)\n",
    "\n",
    "arr=[\"hot\",\"dot\",\"dog\",\"lot\",\"log\",\"cog\"]\n",
    "for word in arr:\n",
    "    for i in range(len(word)):\n",
    "        bucket= word[:i] + \"_\" + word[i+1:]\n",
    "        nei[bucket].append(word)\n",
    "print(nei)\n",
    "\n"
   ]
  },
  {
   "cell_type": "markdown",
   "id": "68ee3540",
   "metadata": {},
   "source": [
    "# BFS"
   ]
  },
  {
   "cell_type": "markdown",
   "id": "4177cb46",
   "metadata": {},
   "source": [
    "B---A  E----G\n",
    "|   | /|    |\n",
    "C   D--F----H  "
   ]
  },
  {
   "cell_type": "code",
   "execution_count": 1,
   "id": "8e7d5dea",
   "metadata": {},
   "outputs": [],
   "source": [
    "from queue import Queue\n",
    "adj_list={\n",
    "    \"A\": [\"B\",\"D\"],\n",
    "    \"B\": [\"C\",\"A\"],\n",
    "    \"C\": [\"B\"],\n",
    "    \"D\": [\"A\",\"F\",\"E\"],\n",
    "    \"E\": [\"F\", \"D\",\"G\"],\n",
    "    \"F\": [\"E\",\"D\",\"H\"],\n",
    "    \"G\": [\"E\",\"H\"],\n",
    "    \"H\": [\"G\",\"F\"]\n",
    "}\n",
    "\n"
   ]
  },
  {
   "cell_type": "code",
   "execution_count": 5,
   "id": "c1e44ac6",
   "metadata": {},
   "outputs": [
    {
     "name": "stdout",
     "output_type": "stream",
     "text": [
      "A\n",
      "B\n",
      "D\n",
      "C\n",
      "F\n",
      "E\n",
      "H\n",
      "G\n",
      "['A', 'B', 'D', 'C', 'F', 'E', 'H', 'G']\n",
      "{'A': 0, 'B': 1, 'C': 2, 'D': 1, 'E': 2, 'F': 2, 'G': 3, 'H': 3}\n",
      "1\n"
     ]
    }
   ],
   "source": [
    "#BFS code\n",
    "\n",
    "visited = {}\n",
    "level = {}\n",
    "parent = {}\n",
    "bfs_traversal_output = []\n",
    "queue = Queue()\n",
    "\n",
    "for node in adj_list.keys():\n",
    "    visited[node] = False\n",
    "    level[node] = -1\n",
    "    parent[node] = None\n",
    "\n",
    "s = \"A\"\n",
    "visited[s] = True\n",
    "level[s] = 0\n",
    "queue.put(s)\n",
    "\n",
    "while not queue.empty():\n",
    "    u = queue.get()\n",
    "    bfs_traversal_output.append(u)\n",
    "    print(u)\n",
    "    \n",
    "    for v in adj_list[u]:\n",
    "        if not visited[v]:\n",
    "            \n",
    "            parent[v] = u\n",
    "            visited[v] = True\n",
    "            level[v] = level[u] +1\n",
    "            queue.put(v)\n",
    "            \n",
    "print(bfs_traversal_output)\n",
    "print(level)\n",
    "print(level[\"D\"])\n",
    "    "
   ]
  },
  {
   "cell_type": "code",
   "execution_count": 7,
   "id": "a5c448f3",
   "metadata": {},
   "outputs": [
    {
     "name": "stdout",
     "output_type": "stream",
     "text": [
      "E\n",
      "D\n",
      "A\n",
      "None\n",
      "['A', 'D', 'E', 'G']\n"
     ]
    }
   ],
   "source": [
    "#shortest path\n",
    "v = \"G\"\n",
    "path = []\n",
    "while v is not None:\n",
    "    path.append(v)\n",
    "    v = parent[v]\n",
    "    print(v)\n",
    "path.reverse()\n",
    "print(path)\n"
   ]
  },
  {
   "cell_type": "markdown",
   "id": "58195ddf",
   "metadata": {},
   "source": [
    "# BFS 2"
   ]
  },
  {
   "cell_type": "code",
   "execution_count": 39,
   "id": "31e9f7f1",
   "metadata": {},
   "outputs": [],
   "source": [
    "from enum import Enum\n",
    "from collections import OrderedDict\n"
   ]
  },
  {
   "cell_type": "code",
   "execution_count": 40,
   "id": "60be58f1",
   "metadata": {},
   "outputs": [],
   "source": [
    "class State(Enum):\n",
    "    visited = 2\n",
    "    unvisited = 1\n",
    "    visiting = 3"
   ]
  },
  {
   "cell_type": "code",
   "execution_count": 41,
   "id": "32ff4454",
   "metadata": {},
   "outputs": [],
   "source": [
    "class Node:\n",
    "    \n",
    "    def __init__(self, num):\n",
    "        self.num = num\n",
    "        self.visit_state = State.unvisited\n",
    "        self.adjacent = OrderedDict()   #key = node, value = weight\n",
    "        \n",
    "    def __str__(self):\n",
    "        return str(self.num)\n",
    "    \n",
    "    \n"
   ]
  },
  {
   "cell_type": "code",
   "execution_count": 42,
   "id": "989e49fb",
   "metadata": {},
   "outputs": [],
   "source": [
    "class Graph:\n",
    "    \n",
    "    def __init__(self):\n",
    "        self.nodes = OrderedDict()\n",
    "        \n",
    "    def add_node(self, num):\n",
    "        node = Node(num)\n",
    "        self.nodes[num] = node\n",
    "        \n",
    "    def add_edge(self, source, dest, weight = 0):\n",
    "        if source not in self.nodes:\n",
    "            self.add_node(source)\n",
    "            \n",
    "        if dest not in self.nodes:\n",
    "            self.add_node(dest)\n",
    "            \n",
    "        self.nodes[source].adjacent[self.nodes[dest]] = weight\n",
    "        \n",
    "        \n",
    "        \n",
    "        "
   ]
  },
  {
   "cell_type": "code",
   "execution_count": 43,
   "id": "e6461dcd",
   "metadata": {},
   "outputs": [],
   "source": [
    "g = Graph()\n",
    "g.add_edge(0,1,5)"
   ]
  },
  {
   "cell_type": "code",
   "execution_count": 44,
   "id": "59f9f27c",
   "metadata": {},
   "outputs": [
    {
     "data": {
      "text/plain": [
       "OrderedDict([(0, <__main__.Node at 0x210a12ba5e0>),\n",
       "             (1, <__main__.Node at 0x210a12baf70>)])"
      ]
     },
     "execution_count": 44,
     "metadata": {},
     "output_type": "execute_result"
    }
   ],
   "source": [
    "g.nodes\n"
   ]
  },
  {
   "cell_type": "code",
   "execution_count": 45,
   "id": "695490cb",
   "metadata": {},
   "outputs": [],
   "source": [
    "g.add_edge(1,2,3)"
   ]
  },
  {
   "cell_type": "code",
   "execution_count": 46,
   "id": "020e8c45",
   "metadata": {},
   "outputs": [
    {
     "data": {
      "text/plain": [
       "OrderedDict([(0, <__main__.Node at 0x210a12ba5e0>),\n",
       "             (1, <__main__.Node at 0x210a12baf70>),\n",
       "             (2, <__main__.Node at 0x210a110b6a0>)])"
      ]
     },
     "execution_count": 46,
     "metadata": {},
     "output_type": "execute_result"
    }
   ],
   "source": [
    "g.nodes"
   ]
  },
  {
   "cell_type": "markdown",
   "id": "3e92c351",
   "metadata": {},
   "source": [
    "# BFS 3"
   ]
  },
  {
   "cell_type": "code",
   "execution_count": 63,
   "id": "37d21a49",
   "metadata": {},
   "outputs": [],
   "source": [
    "graph = {\"A\": set([\"B\",\"C\"]),\n",
    "         \"B\": set([\"A\",\"D\",\"E\"]),\n",
    "         \"C\": set([\"A\",\"F\"]),\n",
    "         \"D\": set([\"B\"]),\n",
    "         \"E\": set([\"B\",\"F\"]),\n",
    "         \"F\": set([\"C\",\"E\"])\n",
    "        }"
   ]
  },
  {
   "cell_type": "code",
   "execution_count": 64,
   "id": "4b556fa5",
   "metadata": {},
   "outputs": [],
   "source": [
    "def bfs(graph, start):\n",
    "    visited = set()\n",
    "    queue = [start]\n",
    "    \n",
    "    while queue:\n",
    "        vertex = queue.pop(0)\n",
    "        if vertex not in visited:\n",
    "            visited.add(vertex)\n",
    "            queue.extend(graph[vertex]-visited)\n",
    "    return visited"
   ]
  },
  {
   "cell_type": "code",
   "execution_count": 65,
   "id": "8caaa36d",
   "metadata": {},
   "outputs": [
    {
     "data": {
      "text/plain": [
       "{'A', 'B', 'C', 'D', 'E', 'F'}"
      ]
     },
     "execution_count": 65,
     "metadata": {},
     "output_type": "execute_result"
    }
   ],
   "source": [
    "bfs(graph, \"A\")"
   ]
  },
  {
   "cell_type": "code",
   "execution_count": 66,
   "id": "d7831eb6",
   "metadata": {},
   "outputs": [
    {
     "data": {
      "text/plain": [
       "[['A', 'C', 'F'], ['A', 'B', 'E', 'F']]"
      ]
     },
     "execution_count": 66,
     "metadata": {},
     "output_type": "execute_result"
    }
   ],
   "source": [
    "def paths(graph, start, goal):\n",
    "    queue = [(start, [ start])]\n",
    "    while queue:\n",
    "        (vertex, path) = queue.pop(0)\n",
    "        for next in graph[vertex] - set(path):\n",
    "            if next == goal:\n",
    "                yield path + [next]\n",
    "            else:\n",
    "                queue.append((next, path + [next]))\n",
    "list(paths(graph, \"A\", \"F\"))"
   ]
  },
  {
   "cell_type": "code",
   "execution_count": 67,
   "id": "7cb5adcc",
   "metadata": {},
   "outputs": [
    {
     "data": {
      "text/plain": [
       "['A', 'C', 'F']"
      ]
     },
     "execution_count": 67,
     "metadata": {},
     "output_type": "execute_result"
    }
   ],
   "source": [
    "def shortest(graph, start, goal):\n",
    "    try:\n",
    "        return next(paths(graph, start, goal))\n",
    "    \n",
    "    except StopIteration:\n",
    "        return None\n",
    "shortest(graph, \"A\",\"F\")"
   ]
  },
  {
   "cell_type": "markdown",
   "id": "47a68abc",
   "metadata": {},
   "source": [
    "# Depth First Search"
   ]
  },
  {
   "cell_type": "code",
   "execution_count": 47,
   "id": "ec7989d1",
   "metadata": {},
   "outputs": [],
   "source": [
    "graph = {\"A\": set([\"B\",\"C\"]),\n",
    "         \"B\": set([\"A\",\"D\",\"E\"]),\n",
    "         \"C\": set([\"A\",\"F\"]),\n",
    "         \"D\": set([\"B\"]),\n",
    "         \"E\": set([\"B\",\"F\"]),\n",
    "         \"F\": set([\"C\",\"E\"])\n",
    "        }"
   ]
  },
  {
   "cell_type": "code",
   "execution_count": 50,
   "id": "c08b7398",
   "metadata": {},
   "outputs": [],
   "source": [
    "def dfs(graph, start):\n",
    "    \n",
    "    visited = set()\n",
    "    stack = [start]\n",
    "    \n",
    "    while stack:\n",
    "        vertex = stack.pop()\n",
    "        \n",
    "        if vertex not in visited:\n",
    "            visited.add(vertex)\n",
    "            \n",
    "            stack.extend(graph[vertex] - visited)\n",
    "    return visited"
   ]
  },
  {
   "cell_type": "code",
   "execution_count": 51,
   "id": "b2394930",
   "metadata": {},
   "outputs": [
    {
     "data": {
      "text/plain": [
       "{'A', 'B', 'C', 'D', 'E', 'F'}"
      ]
     },
     "execution_count": 51,
     "metadata": {},
     "output_type": "execute_result"
    }
   ],
   "source": [
    "dfs(graph, \"A\")"
   ]
  },
  {
   "cell_type": "code",
   "execution_count": 56,
   "id": "8fec6d85",
   "metadata": {},
   "outputs": [],
   "source": [
    "# Recursive\n",
    "\n",
    "def dfs1(graph, start, visited = None):\n",
    "    if visited is None:\n",
    "        visited = set()\n",
    "    visited.add(start)\n",
    "    for nxt in graph[start] - visited:\n",
    "        dfs1(graph, nxt, visited)\n",
    "    return visited"
   ]
  },
  {
   "cell_type": "code",
   "execution_count": 57,
   "id": "4a200c80",
   "metadata": {},
   "outputs": [
    {
     "data": {
      "text/plain": [
       "{'A', 'B', 'C', 'D', 'E', 'F'}"
      ]
     },
     "execution_count": 57,
     "metadata": {},
     "output_type": "execute_result"
    }
   ],
   "source": [
    "dfs1(graph, \"A\")"
   ]
  },
  {
   "cell_type": "markdown",
   "id": "1b313b97",
   "metadata": {},
   "source": [
    "# Path"
   ]
  },
  {
   "cell_type": "code",
   "execution_count": 60,
   "id": "5101ecc6",
   "metadata": {},
   "outputs": [
    {
     "data": {
      "text/plain": [
       "[['A', 'B', 'D'], ['A', 'C', 'F', 'E', 'B', 'D']]"
      ]
     },
     "execution_count": 60,
     "metadata": {},
     "output_type": "execute_result"
    }
   ],
   "source": [
    "def dfs_paths(graph, start, goal):\n",
    "    stack = [(start, [start])]\n",
    "    while stack:\n",
    "        (vertex, path) = stack.pop()\n",
    "        for nxt in graph[vertex] - set(path):\n",
    "            if nxt == goal:\n",
    "                yield path + [nxt]\n",
    "            else:\n",
    "                stack.append((nxt, path + [nxt]))\n",
    "list(dfs_paths(graph, \"A\", \"D\"))"
   ]
  },
  {
   "cell_type": "code",
   "execution_count": null,
   "id": "e2089bd1",
   "metadata": {},
   "outputs": [],
   "source": []
  }
 ],
 "metadata": {
  "kernelspec": {
   "display_name": "Python 3",
   "language": "python",
   "name": "python3"
  },
  "language_info": {
   "codemirror_mode": {
    "name": "ipython",
    "version": 3
   },
   "file_extension": ".py",
   "mimetype": "text/x-python",
   "name": "python",
   "nbconvert_exporter": "python",
   "pygments_lexer": "ipython3",
   "version": "3.8.8"
  }
 },
 "nbformat": 4,
 "nbformat_minor": 5
}
