{
 "cells": [
  {
   "cell_type": "code",
   "execution_count": 5,
   "id": "4666ac11",
   "metadata": {},
   "outputs": [
    {
     "name": "stdout",
     "output_type": "stream",
     "text": [
      "leng:   0; size in bytes:   56\n",
      "leng:   1; size in bytes:   88\n",
      "leng:   2; size in bytes:   88\n",
      "leng:   3; size in bytes:   88\n",
      "leng:   4; size in bytes:   88\n",
      "leng:   5; size in bytes:  120\n",
      "leng:   6; size in bytes:  120\n",
      "leng:   7; size in bytes:  120\n",
      "leng:   8; size in bytes:  120\n",
      "leng:   9; size in bytes:  184\n"
     ]
    }
   ],
   "source": [
    "import sys\n",
    "n = 10 \n",
    "data = []\n",
    "for i in range(n):\n",
    "    a = len(data)\n",
    "    b = sys.getsizeof(data)\n",
    "    print(\"leng: {0:3d}; size in bytes: {1:4d}\".format(a, b))\n",
    "    data.append(n)"
   ]
  },
  {
   "cell_type": "markdown",
   "id": "fce15f92",
   "metadata": {},
   "source": [
    "\n",
    "\n",
    "# Dynamic array implemention\n"
   ]
  },
  {
   "cell_type": "code",
   "execution_count": 2,
   "id": "676982c9",
   "metadata": {},
   "outputs": [],
   "source": [
    "import ctypes, sys\n",
    "\n",
    "class DynamicArray(object):\n",
    "    \n",
    "    def __init__(self):\n",
    "            self.n = 0\n",
    "            self.capacity = 1\n",
    "            self.A = self.make_array(self.capacity)\n",
    "            \n",
    "    def __len__(self):\n",
    "        return self.n\n",
    "    def __getitem__(self, k):\n",
    "        if not  0 <= k < self.n:\n",
    "            return IndexError(\"K is out of bounds!\")\n",
    "        return self.A[k]\n",
    "    \n",
    "    def append(self, ele):\n",
    "        if self.n == self.capacity:\n",
    "            self._resize(2*self.capacity) #2x if capacity is n0t enough\n",
    "        self.A[self.n] = ele\n",
    "        self.n += 1\n",
    "    def _resize(self, new_cap):\n",
    "        B = self.make_array(new_cap)\n",
    "        for k in range(self.n):\n",
    "            B[k] = self.A[k]\n",
    "        self.A = B\n",
    "        self.capacity = new_cap\n",
    "    def make_array(self, new_cap):\n",
    "        return(new_cap*ctypes.py_object)()\n",
    "    \n",
    "        \n",
    "        \n",
    "        \n",
    "        "
   ]
  },
  {
   "cell_type": "code",
   "execution_count": 3,
   "id": "6b64690e",
   "metadata": {},
   "outputs": [],
   "source": [
    "arr = DynamicArray() "
   ]
  },
  {
   "cell_type": "code",
   "execution_count": 4,
   "id": "984ab271",
   "metadata": {},
   "outputs": [],
   "source": [
    "arr.append(1)"
   ]
  },
  {
   "cell_type": "code",
   "execution_count": 5,
   "id": "34e77c7b",
   "metadata": {},
   "outputs": [
    {
     "data": {
      "text/plain": [
       "1"
      ]
     },
     "execution_count": 5,
     "metadata": {},
     "output_type": "execute_result"
    }
   ],
   "source": [
    "len(arr)"
   ]
  },
  {
   "cell_type": "code",
   "execution_count": 6,
   "id": "4d8ce12b",
   "metadata": {},
   "outputs": [],
   "source": [
    "arr.append(2)"
   ]
  },
  {
   "cell_type": "code",
   "execution_count": 7,
   "id": "1bbef7f1",
   "metadata": {},
   "outputs": [
    {
     "data": {
      "text/plain": [
       "2"
      ]
     },
     "execution_count": 7,
     "metadata": {},
     "output_type": "execute_result"
    }
   ],
   "source": [
    "len(arr)"
   ]
  },
  {
   "cell_type": "code",
   "execution_count": 8,
   "id": "9fefdb32",
   "metadata": {},
   "outputs": [
    {
     "name": "stdout",
     "output_type": "stream",
     "text": [
      "48\n"
     ]
    }
   ],
   "source": [
    "arr[0]\n",
    "print(sys.getsizeof(arr))"
   ]
  },
  {
   "cell_type": "code",
   "execution_count": 9,
   "id": "843b4e6c",
   "metadata": {},
   "outputs": [
    {
     "data": {
      "text/plain": [
       "2"
      ]
     },
     "execution_count": 9,
     "metadata": {},
     "output_type": "execute_result"
    }
   ],
   "source": [
    "arr[1]"
   ]
  },
  {
   "cell_type": "code",
   "execution_count": 10,
   "id": "48d1a72a",
   "metadata": {},
   "outputs": [
    {
     "name": "stdout",
     "output_type": "stream",
     "text": [
      "48\n"
     ]
    }
   ],
   "source": [
    "\n",
    "print(sys.getsizeof(arr))"
   ]
  },
  {
   "cell_type": "code",
   "execution_count": 1,
   "id": "a1cad413",
   "metadata": {},
   "outputs": [
    {
     "ename": "NameError",
     "evalue": "name 'arr' is not defined",
     "output_type": "error",
     "traceback": [
      "\u001b[1;31m---------------------------------------------------------------------------\u001b[0m",
      "\u001b[1;31mNameError\u001b[0m                                 Traceback (most recent call last)",
      "\u001b[1;32m<ipython-input-1-303d3faa8ca9>\u001b[0m in \u001b[0;36m<module>\u001b[1;34m\u001b[0m\n\u001b[0;32m      1\u001b[0m \u001b[1;32mfor\u001b[0m \u001b[0mi\u001b[0m \u001b[1;32min\u001b[0m \u001b[0mrange\u001b[0m\u001b[1;33m(\u001b[0m\u001b[1;36m100\u001b[0m\u001b[1;33m)\u001b[0m\u001b[1;33m:\u001b[0m\u001b[1;33m\u001b[0m\u001b[1;33m\u001b[0m\u001b[0m\n\u001b[1;32m----> 2\u001b[1;33m     \u001b[0mprint\u001b[0m\u001b[1;33m(\u001b[0m\u001b[0marr\u001b[0m\u001b[1;33m[\u001b[0m\u001b[0mi\u001b[0m\u001b[1;33m]\u001b[0m\u001b[1;33m)\u001b[0m\u001b[1;33m\u001b[0m\u001b[1;33m\u001b[0m\u001b[0m\n\u001b[0m\u001b[0;32m      3\u001b[0m     \u001b[0marr\u001b[0m\u001b[1;33m.\u001b[0m\u001b[0mappend\u001b[0m\u001b[1;33m(\u001b[0m\u001b[0mi\u001b[0m\u001b[1;33m)\u001b[0m\u001b[1;33m\u001b[0m\u001b[1;33m\u001b[0m\u001b[0m\n\u001b[0;32m      4\u001b[0m     \u001b[0mprint\u001b[0m\u001b[1;33m(\u001b[0m\u001b[0msys\u001b[0m\u001b[1;33m.\u001b[0m\u001b[0mgetsizeof\u001b[0m\u001b[1;33m(\u001b[0m\u001b[0marr\u001b[0m\u001b[1;33m)\u001b[0m\u001b[1;33m)\u001b[0m\u001b[1;33m\u001b[0m\u001b[1;33m\u001b[0m\u001b[0m\n\u001b[0;32m      5\u001b[0m \u001b[1;33m\u001b[0m\u001b[0m\n",
      "\u001b[1;31mNameError\u001b[0m: name 'arr' is not defined"
     ]
    }
   ],
   "source": [
    "for i in range(100):\n",
    "    print(arr[i])\n",
    "    arr.append(i)\n",
    "    print(sys.getsizeof(arr))\n",
    "    \n",
    "print(sys.getsizeof(arr))\n",
    "print(arr[500])"
   ]
  },
  {
   "cell_type": "markdown",
   "id": "51934d14",
   "metadata": {},
   "source": [
    "# Anagram Solution\n"
   ]
  },
  {
   "cell_type": "code",
   "execution_count": 8,
   "id": "5e1f0436",
   "metadata": {},
   "outputs": [
    {
     "data": {
      "text/plain": [
       "True"
      ]
     },
     "execution_count": 8,
     "metadata": {},
     "output_type": "execute_result"
    }
   ],
   "source": [
    "def anagram(s1,s2):\n",
    "    s1 = s1.replace(\" \",\"\").lower()\n",
    "    s2 = s2.replace(\" \",\"\").lower()\n",
    "    return sorted(s1) == sorted(s2)\n",
    "anagram(\"clint eastwood\",\"old west action\")"
   ]
  },
  {
   "cell_type": "code",
   "execution_count": 19,
   "id": "a5bd33bf",
   "metadata": {},
   "outputs": [],
   "source": [
    "## Anagram interview"
   ]
  },
  {
   "cell_type": "code",
   "execution_count": 82,
   "id": "c9949189",
   "metadata": {},
   "outputs": [],
   "source": [
    "def anagram2(s1,s2):\n",
    "    s1 = s1.replace(\" \",\"\").lower()\n",
    "    s2 = s2.replace(\" \",\"\").lower()\n",
    "    \n",
    "    #Edge Case Check\n",
    "    if len(s1)!= len(s2):\n",
    "        return False\n",
    "    \n",
    "    count={}\n",
    "    \n",
    "    for letter in s1:\n",
    "        if letter in count:\n",
    "            count[letter] += 1\n",
    "        else:\n",
    "            count[letter] = 1  #count = {s1}\n",
    "    print(count)\n",
    "    \n",
    "    for letter in s2:\n",
    "        if letter in count:\n",
    "            count[letter] -=1\n",
    "        else:\n",
    "            count[letter] = 1\n",
    "    print(count)\n",
    "    \n",
    "    for k in count:\n",
    "        if count[k] != 0:\n",
    "            return False\n",
    "        else:\n",
    "            return True\n",
    "        \n",
    "    \n",
    "    "
   ]
  },
  {
   "cell_type": "code",
   "execution_count": 83,
   "id": "90a1201e",
   "metadata": {},
   "outputs": [],
   "source": [
    "#count = {}\n",
    "#count[\"c\"]=1\n",
    "#count[\"l\"]=1\n",
    "#print(count)"
   ]
  },
  {
   "cell_type": "code",
   "execution_count": 84,
   "id": "21596fd7",
   "metadata": {},
   "outputs": [],
   "source": [
    "#count = {}\n",
    "#count[\"o\"]=0\n",
    "#count[\"l\"]=1\n",
    "#print(count[\"o\"])"
   ]
  },
  {
   "cell_type": "code",
   "execution_count": 89,
   "id": "61cabecb",
   "metadata": {},
   "outputs": [
    {
     "name": "stdout",
     "output_type": "stream",
     "text": [
      "{'c': 1, 'l': 1, 'i': 1, 'n': 1, 't': 2, 'e': 1, 'a': 1, 's': 1, 'w': 1, 'o': 2, 'd': 1}\n",
      "{'c': 0, 'l': 0, 'i': 0, 'n': 0, 't': 0, 'e': 0, 'a': 0, 's': 0, 'w': 0, 'o': 0, 'd': 0}\n"
     ]
    },
    {
     "data": {
      "text/plain": [
       "True"
      ]
     },
     "execution_count": 89,
     "metadata": {},
     "output_type": "execute_result"
    }
   ],
   "source": [
    "anagram2(\"clint eastwood\",\"old west action\")"
   ]
  },
  {
   "cell_type": "code",
   "execution_count": 39,
   "id": "2c7733c2",
   "metadata": {},
   "outputs": [
    {
     "data": {
      "text/plain": [
       "True"
      ]
     },
     "execution_count": 39,
     "metadata": {},
     "output_type": "execute_result"
    }
   ],
   "source": [
    "anagram2(\"erty\",\"trye\")"
   ]
  },
  {
   "cell_type": "markdown",
   "id": "1fdb072d",
   "metadata": {},
   "source": [
    "# Array Pair Sum"
   ]
  },
  {
   "cell_type": "code",
   "execution_count": 45,
   "id": "c3f4683a",
   "metadata": {},
   "outputs": [],
   "source": [
    "def pair_sum(arr, k):\n",
    "    \n",
    "    if len(arr)<2:\n",
    "        return\n",
    "    \n",
    "    \n",
    "    seen = set()\n",
    "    output = set()\n",
    "    \n",
    "    for num in arr:\n",
    "        target = k - num\n",
    "        if target not in seen:\n",
    "            seen.add(num)\n",
    "        else:\n",
    "            output.add((min(num, target),max(num,target)))\n",
    "    print (\"\\n\".join(map(str, list(output))))\n",
    "      \n"
   ]
  },
  {
   "cell_type": "code",
   "execution_count": 46,
   "id": "78d018a7",
   "metadata": {},
   "outputs": [
    {
     "name": "stdout",
     "output_type": "stream",
     "text": [
      "(2, 3)\n",
      "(1, 4)\n"
     ]
    }
   ],
   "source": [
    "pair_sum([2,1,4,3],5)"
   ]
  },
  {
   "cell_type": "markdown",
   "id": "67b588ea",
   "metadata": {},
   "source": [
    "# Find the missing element\n"
   ]
  },
  {
   "cell_type": "code",
   "execution_count": 7,
   "id": "151bf66f",
   "metadata": {},
   "outputs": [],
   "source": [
    "import collections\n",
    "\n",
    "def finder(arr1,arr2):\n",
    "    d = collections.defaultdict(int) #create a dict\n",
    "    #d = dict()\n",
    "    for num in arr2:\n",
    "        d[num] += 1\n",
    "        print(d)\n",
    "    for num in arr1:\n",
    "        \n",
    "        if d[num] == 0:\n",
    "            return num\n",
    "        else:\n",
    "            d[num] -= 1\n",
    "        \n",
    "    \n",
    "     "
   ]
  },
  {
   "cell_type": "code",
   "execution_count": 8,
   "id": "11f98b3d",
   "metadata": {},
   "outputs": [
    {
     "name": "stdout",
     "output_type": "stream",
     "text": [
      "defaultdict(<class 'int'>, {2: 1})\n",
      "defaultdict(<class 'int'>, {2: 1, 1: 1})\n",
      "defaultdict(<class 'int'>, {2: 1, 1: 1, 3: 1})\n",
      "defaultdict(<class 'int'>, {2: 1, 1: 1, 3: 1, 7: 1})\n",
      "defaultdict(<class 'int'>, {2: 1, 1: 1, 3: 1, 7: 1, 4: 1})\n",
      "defaultdict(<class 'int'>, {2: 1, 1: 1, 3: 1, 7: 1, 4: 1, 5: 1})\n",
      "defaultdict(<class 'int'>, {2: 1, 1: 1, 3: 1, 7: 1, 4: 1, 5: 1, 10: 1})\n"
     ]
    },
    {
     "data": {
      "text/plain": [
       "6"
      ]
     },
     "execution_count": 8,
     "metadata": {},
     "output_type": "execute_result"
    }
   ],
   "source": [
    "finder([1,2,3,6,4,5,7,8,9],[2,1,3,7,4,5,10])"
   ]
  },
  {
   "cell_type": "code",
   "execution_count": 9,
   "id": "1847e657",
   "metadata": {},
   "outputs": [],
   "source": [
    "#Exclusive O\n",
    "\n",
    "def finder2(arr1, arr2):\n",
    "    result = 0\n",
    "    \n",
    "    #Perform an XOR between the numbers in the arrays\n",
    "    \n",
    "    for num in arr1 + arr2:\n",
    "        result ^= sum\n",
    "        print(result)\n",
    "    return result\n",
    "    "
   ]
  },
  {
   "cell_type": "code",
   "execution_count": 10,
   "id": "90a5eff8",
   "metadata": {},
   "outputs": [
    {
     "ename": "TypeError",
     "evalue": "unsupported operand type(s) for ^=: 'int' and 'builtin_function_or_method'",
     "output_type": "error",
     "traceback": [
      "\u001b[1;31m---------------------------------------------------------------------------\u001b[0m",
      "\u001b[1;31mTypeError\u001b[0m                                 Traceback (most recent call last)",
      "\u001b[1;32m<ipython-input-10-ed6e6f5a6347>\u001b[0m in \u001b[0;36m<module>\u001b[1;34m\u001b[0m\n\u001b[1;32m----> 1\u001b[1;33m \u001b[0mfinder2\u001b[0m\u001b[1;33m(\u001b[0m\u001b[1;33m[\u001b[0m\u001b[1;36m1\u001b[0m\u001b[1;33m,\u001b[0m\u001b[1;36m2\u001b[0m\u001b[1;33m,\u001b[0m\u001b[1;36m3\u001b[0m\u001b[1;33m,\u001b[0m\u001b[1;36m6\u001b[0m\u001b[1;33m,\u001b[0m\u001b[1;36m4\u001b[0m\u001b[1;33m,\u001b[0m\u001b[1;36m5\u001b[0m\u001b[1;33m,\u001b[0m\u001b[1;36m7\u001b[0m\u001b[1;33m,\u001b[0m\u001b[1;36m8\u001b[0m\u001b[1;33m,\u001b[0m\u001b[1;36m9\u001b[0m\u001b[1;33m]\u001b[0m\u001b[1;33m,\u001b[0m\u001b[1;33m[\u001b[0m\u001b[1;36m2\u001b[0m\u001b[1;33m,\u001b[0m\u001b[1;36m1\u001b[0m\u001b[1;33m,\u001b[0m\u001b[1;36m3\u001b[0m\u001b[1;33m,\u001b[0m\u001b[1;36m7\u001b[0m\u001b[1;33m,\u001b[0m\u001b[1;36m4\u001b[0m\u001b[1;33m,\u001b[0m\u001b[1;36m5\u001b[0m\u001b[1;33m,\u001b[0m\u001b[1;36m10\u001b[0m\u001b[1;33m]\u001b[0m\u001b[1;33m)\u001b[0m\u001b[1;33m\u001b[0m\u001b[1;33m\u001b[0m\u001b[0m\n\u001b[0m",
      "\u001b[1;32m<ipython-input-9-a952d3d849da>\u001b[0m in \u001b[0;36mfinder2\u001b[1;34m(arr1, arr2)\u001b[0m\n\u001b[0;32m      7\u001b[0m \u001b[1;33m\u001b[0m\u001b[0m\n\u001b[0;32m      8\u001b[0m     \u001b[1;32mfor\u001b[0m \u001b[0mnum\u001b[0m \u001b[1;32min\u001b[0m \u001b[0marr1\u001b[0m \u001b[1;33m+\u001b[0m \u001b[0marr2\u001b[0m\u001b[1;33m:\u001b[0m\u001b[1;33m\u001b[0m\u001b[1;33m\u001b[0m\u001b[0m\n\u001b[1;32m----> 9\u001b[1;33m         \u001b[0mresult\u001b[0m \u001b[1;33m^=\u001b[0m \u001b[0msum\u001b[0m\u001b[1;33m\u001b[0m\u001b[1;33m\u001b[0m\u001b[0m\n\u001b[0m\u001b[0;32m     10\u001b[0m         \u001b[0mprint\u001b[0m\u001b[1;33m(\u001b[0m\u001b[0mresult\u001b[0m\u001b[1;33m)\u001b[0m\u001b[1;33m\u001b[0m\u001b[1;33m\u001b[0m\u001b[0m\n\u001b[0;32m     11\u001b[0m     \u001b[1;32mreturn\u001b[0m \u001b[0mresult\u001b[0m\u001b[1;33m\u001b[0m\u001b[1;33m\u001b[0m\u001b[0m\n",
      "\u001b[1;31mTypeError\u001b[0m: unsupported operand type(s) for ^=: 'int' and 'builtin_function_or_method'"
     ]
    }
   ],
   "source": [
    "finder2([1,2,3,6,4,5,7,8,9],[2,1,3,7,4,5,10])"
   ]
  },
  {
   "cell_type": "markdown",
   "id": "3fc4daf4",
   "metadata": {},
   "source": [
    "# Largest Continuous Sum\n"
   ]
  },
  {
   "cell_type": "code",
   "execution_count": 13,
   "id": "d8b21755",
   "metadata": {},
   "outputs": [
    {
     "data": {
      "text/plain": [
       "29"
      ]
     },
     "execution_count": 13,
     "metadata": {},
     "output_type": "execute_result"
    }
   ],
   "source": [
    "def large_cont_sum(arr):\n",
    "    \n",
    "    if len(arr) == 0:\n",
    "        return 0\n",
    "    \n",
    "    max_sum = current_sum = arr[0]\n",
    "    for num in arr[1: ]:\n",
    "        current_sum = max(current_sum+num, num)\n",
    "        max_sum = max(current_sum, max_sum)\n",
    "    return max_sum\n",
    "\n",
    "large_cont_sum([1,2,-1,3,4,10,10,-10,-1])\n",
    "    \n",
    "    "
   ]
  },
  {
   "cell_type": "code",
   "execution_count": 19,
   "id": "6f2583cf",
   "metadata": {},
   "outputs": [
    {
     "data": {
      "text/plain": [
       "30"
      ]
     },
     "execution_count": 19,
     "metadata": {},
     "output_type": "execute_result"
    }
   ],
   "source": [
    "#def large_cont_sum1(arr):\n",
    "    \n",
    "#    if len(arr) == 0:\n",
    "#        return 0\n",
    "#    \n",
    "#    max_sum  = current_sum = arr[0]\n",
    "#    for num in arr[1: ]:\n",
    "#        if (current_sum + num) > current_sum:\n",
    "#            current_sum += num\n",
    "#        else:\n",
    "#            current_sum = current_sum\n",
    "#    return current_sum\n",
    "#large_cont_sum1([1,2,-1,3,4,10,10,-5,-10,-1])\n",
    "    "
   ]
  },
  {
   "cell_type": "markdown",
   "id": "2812dce6",
   "metadata": {},
   "source": [
    "# Sentence Reversal\n"
   ]
  },
  {
   "cell_type": "code",
   "execution_count": null,
   "id": "571cf0d8",
   "metadata": {},
   "outputs": [],
   "source": [
    "def rev_word(s):\n",
    "    \n",
    "    words = []\n",
    "    spaces = \" \"\n",
    "    length = len(s)\n",
    "    \n",
    "    i = 0\n",
    "    \n",
    "    while i < length:\n",
    "        if s[i] not in spaces:\n",
    "            word_start = i\n",
    "            while i < length and s[i] not in spaces:\n",
    "                i+=1\n",
    "            words.append(s[word_start:i])\n",
    "        i+=1\n",
    "    return words\n",
    "                     \n",
    "def final_output(words):\n",
    "    reverse=[]\n",
    "    for i in words[-1:0:-1]:\n",
    "        reverse.append(i)\n",
    "    reverse.append(words[0])\n",
    "    return \" \".join(reverse)\n",
    "\n",
    "        \n",
    "        "
   ]
  },
  {
   "cell_type": "code",
   "execution_count": null,
   "id": "f622c607",
   "metadata": {},
   "outputs": [],
   "source": [
    "a = rev_word(\"      ass bitch suck Fuck u fucker  \")"
   ]
  },
  {
   "cell_type": "code",
   "execution_count": null,
   "id": "bad20f3c",
   "metadata": {},
   "outputs": [],
   "source": [
    "final_output(a)"
   ]
  },
  {
   "cell_type": "markdown",
   "id": "0624bac9",
   "metadata": {},
   "source": [
    "# String Compression\n"
   ]
  },
  {
   "cell_type": "code",
   "execution_count": 5,
   "id": "df1c76ef",
   "metadata": {},
   "outputs": [
    {
     "data": {
      "text/plain": [
       "'A2B1A2c1a1s1'"
      ]
     },
     "execution_count": 5,
     "metadata": {},
     "output_type": "execute_result"
    }
   ],
   "source": [
    "def compress(s):\n",
    "    r = \"\"\n",
    "    l = len(s)\n",
    "    \n",
    "    if l == 0:\n",
    "        return \"\"\n",
    "    if l == 1:\n",
    "        return s+\"1\"\n",
    "    count = 1\n",
    "    i = 1\n",
    "    \n",
    "    while i < l:\n",
    "        if s[i] == s[i-1]:\n",
    "            count += 1\n",
    "        else:\n",
    "            r = r + s[i-1] + str(count)\n",
    "            count = 1\n",
    "        i += 1\n",
    "    r = r + s[i-1] + str(count)\n",
    "   \n",
    "    return r\n",
    "\n",
    "compress(\"AABAAcas\")"
   ]
  },
  {
   "cell_type": "markdown",
   "id": "214273f4",
   "metadata": {},
   "source": [
    "# Unique Characters\n"
   ]
  },
  {
   "cell_type": "code",
   "execution_count": 6,
   "id": "4233bbb9",
   "metadata": {},
   "outputs": [],
   "source": [
    "def uni_char(s):\n",
    "    chars = set()\n",
    "    \n",
    "    for let in s:\n",
    "        if let in chars:\n",
    "            return False\n",
    "        else:\n",
    "            chars.add(let)\n",
    "    return True"
   ]
  },
  {
   "cell_type": "code",
   "execution_count": 8,
   "id": "e8799c9d",
   "metadata": {},
   "outputs": [
    {
     "data": {
      "text/plain": [
       "False"
      ]
     },
     "execution_count": 8,
     "metadata": {},
     "output_type": "execute_result"
    }
   ],
   "source": [
    "uni_char(\"asdfga\")"
   ]
  },
  {
   "cell_type": "code",
   "execution_count": null,
   "id": "2f8fade4",
   "metadata": {},
   "outputs": [],
   "source": []
  }
 ],
 "metadata": {
  "kernelspec": {
   "display_name": "Python 3",
   "language": "python",
   "name": "python3"
  },
  "language_info": {
   "codemirror_mode": {
    "name": "ipython",
    "version": 3
   },
   "file_extension": ".py",
   "mimetype": "text/x-python",
   "name": "python",
   "nbconvert_exporter": "python",
   "pygments_lexer": "ipython3",
   "version": "3.8.8"
  }
 },
 "nbformat": 4,
 "nbformat_minor": 5
}
