{
 "cells": [
  {
   "cell_type": "markdown",
   "id": "02105e2e",
   "metadata": {},
   "source": [
    "# Factorial\n"
   ]
  },
  {
   "cell_type": "code",
   "execution_count": 1,
   "id": "989606e1",
   "metadata": {},
   "outputs": [],
   "source": [
    "def fact(n):\n",
    "    \n",
    "    if n == 0:\n",
    "        return 1\n",
    "    else:\n",
    "        return n*fact(n-1)\n",
    "    "
   ]
  },
  {
   "cell_type": "markdown",
   "id": "5379c462",
   "metadata": {},
   "source": [
    "# Sum  n = 4321, return 4+3+2+1\n"
   ]
  },
  {
   "cell_type": "code",
   "execution_count": 2,
   "id": "fbed76ff",
   "metadata": {},
   "outputs": [],
   "source": [
    "def sum_func(n):\n",
    "    #Base case\n",
    "    if len(str(n)) == 1:\n",
    "        return n\n",
    "    \n",
    "    else:\n",
    "        # strip another digit\n",
    "        return n%10 + sum_func(n/10)\n",
    "\n",
    "        "
   ]
  },
  {
   "cell_type": "markdown",
   "id": "045bdb22",
   "metadata": {},
   "source": [
    "# Word split\n"
   ]
  },
  {
   "cell_type": "code",
   "execution_count": 1,
   "id": "687ed971",
   "metadata": {},
   "outputs": [],
   "source": [
    "def word_split(phrase, list_of_words, output = None):\n",
    "    \n",
    "    if output is None:\n",
    "        output = []\n",
    "        \n",
    "    for word in list_of_words:\n",
    "        \n",
    "        if phrase.startswith(word):\n",
    "            output.append(word)\n",
    "            return word_split(phrase[len(word):], list_of_words, output)\n",
    "    return output\n",
    "        "
   ]
  },
  {
   "cell_type": "code",
   "execution_count": 2,
   "id": "7c1d892a",
   "metadata": {},
   "outputs": [
    {
     "data": {
      "text/plain": [
       "['the', 'man', 'ran']"
      ]
     },
     "execution_count": 2,
     "metadata": {},
     "output_type": "execute_result"
    }
   ],
   "source": [
    "word_split('themanran',[\"ran\", \"the\",\"man\"])"
   ]
  },
  {
   "cell_type": "code",
   "execution_count": 3,
   "id": "3ebeb7b5",
   "metadata": {},
   "outputs": [
    {
     "data": {
      "text/plain": [
       "['i', 'love', 'dogs', 'John']"
      ]
     },
     "execution_count": 3,
     "metadata": {},
     "output_type": "execute_result"
    }
   ],
   "source": [
    "word_split(\"ilovedogsJohn\",[\"i\",\"am\",\"love\",\"the\",\"dogs\",\"lover\",\"John\"])"
   ]
  },
  {
   "cell_type": "markdown",
   "id": "a4824436",
   "metadata": {},
   "source": [
    "# Memoization\n",
    "\n"
   ]
  },
  {
   "cell_type": "code",
   "execution_count": 13,
   "id": "a724cd34",
   "metadata": {},
   "outputs": [
    {
     "name": "stdout",
     "output_type": "stream",
     "text": [
      "25\n",
      "100\n",
      "25\n",
      "100\n"
     ]
    }
   ],
   "source": [
    "import time\n",
    "from time import sleep\n",
    "\n",
    "diction = {}\n",
    "def power(n):\n",
    "    if n in diction:\n",
    "        return diction[n]\n",
    "\n",
    "    diction[n] = n * n\n",
    "    time.sleep(1)\n",
    "    return n * n\n",
    "print(power(5))\n",
    "print(power(10))\n",
    "print(power(5))\n",
    "print(power(10))"
   ]
  },
  {
   "cell_type": "markdown",
   "id": "fdba0026",
   "metadata": {},
   "source": [
    "# REVERSE A STRING\n"
   ]
  },
  {
   "cell_type": "code",
   "execution_count": 33,
   "id": "573a89dc",
   "metadata": {},
   "outputs": [],
   "source": [
    "def reverse(s):\n",
    "    \n",
    "    if len(s) == 1:\n",
    "        return \n",
    "    \n",
    "    size = len(s)\n",
    "    last_char = s[size-1]  \n",
    "    print(last_char, end =\"\")\n",
    "    return reverse(s[0:size-1]) "
   ]
  },
  {
   "cell_type": "code",
   "execution_count": 34,
   "id": "d9daec2d",
   "metadata": {},
   "outputs": [
    {
     "name": "stdout",
     "output_type": "stream",
     "text": [
      "hg fedcb"
     ]
    }
   ],
   "source": [
    "reverse(\"abcdef gh\")"
   ]
  },
  {
   "cell_type": "code",
   "execution_count": 49,
   "id": "62ffa343",
   "metadata": {},
   "outputs": [],
   "source": [
    "def reverse1(s):\n",
    "    \n",
    "    if len(s) <= 1: \n",
    "        return s\n",
    "    \n",
    "    return reverse1(s[1:]) + s[0]\n",
    "    "
   ]
  },
  {
   "cell_type": "code",
   "execution_count": 50,
   "id": "9de11aeb",
   "metadata": {},
   "outputs": [
    {
     "data": {
      "text/plain": [
       "'tdcba'"
      ]
     },
     "execution_count": 50,
     "metadata": {},
     "output_type": "execute_result"
    }
   ],
   "source": [
    "reverse1(\"abcdt\")"
   ]
  },
  {
   "cell_type": "markdown",
   "id": "4ca17aa6",
   "metadata": {},
   "source": [
    "# String Permutation"
   ]
  },
  {
   "cell_type": "code",
   "execution_count": 5,
   "id": "b0843fa9",
   "metadata": {},
   "outputs": [],
   "source": [
    "def permute(s):\n",
    "    \n",
    "    out = []\n",
    "    \n",
    "    if len(s) == 1:\n",
    "        out = [s]\n",
    "        \n",
    "    else:\n",
    "        \n",
    "        for i, let in enumerate(s):\n",
    "           \n",
    "            for perm in permute(s[:i] + s[i+1:]):\n",
    "                print(\"current letter is: \",let)\n",
    "                print(\"perm is: \",perm)\n",
    "                #print(\"perm \"+str(perm))\n",
    "                out += [let+perm]\n",
    "                \n",
    "                \n",
    "    return out"
   ]
  },
  {
   "cell_type": "code",
   "execution_count": 6,
   "id": "3e7ba7ee",
   "metadata": {},
   "outputs": [
    {
     "name": "stdout",
     "output_type": "stream",
     "text": [
      "current letter is:  b\n",
      "perm is:  c\n",
      "current letter is:  c\n",
      "perm is:  b\n",
      "current letter is:  a\n",
      "perm is:  bc\n",
      "current letter is:  a\n",
      "perm is:  cb\n",
      "current letter is:  a\n",
      "perm is:  c\n",
      "current letter is:  c\n",
      "perm is:  a\n",
      "current letter is:  b\n",
      "perm is:  ac\n",
      "current letter is:  b\n",
      "perm is:  ca\n",
      "current letter is:  a\n",
      "perm is:  b\n",
      "current letter is:  b\n",
      "perm is:  a\n",
      "current letter is:  c\n",
      "perm is:  ab\n",
      "current letter is:  c\n",
      "perm is:  ba\n"
     ]
    },
    {
     "data": {
      "text/plain": [
       "['abc', 'acb', 'bac', 'bca', 'cab', 'cba']"
      ]
     },
     "execution_count": 6,
     "metadata": {},
     "output_type": "execute_result"
    }
   ],
   "source": [
    "permute(\"abc\")"
   ]
  },
  {
   "cell_type": "code",
   "execution_count": 34,
   "id": "718e3d90",
   "metadata": {},
   "outputs": [
    {
     "name": "stdout",
     "output_type": "stream",
     "text": [
      "range(0, 2)\n",
      "range(0, 2)\n",
      "range(0, 2)\n",
      "range(0, 2)\n"
     ]
    }
   ],
   "source": [
    "perms = \"abcd\"\n",
    "for perm in perms:\n",
    "    print(range(len(perm)+1))\n"
   ]
  },
  {
   "cell_type": "code",
   "execution_count": 3,
   "id": "6edb5644",
   "metadata": {},
   "outputs": [],
   "source": [
    "def permute1(s):\n",
    "    \n",
    "    if len(s) == 1:\n",
    "        return [s]\n",
    "    \n",
    "    perms = permute1(s[1:])\n",
    "    char = s[0]\n",
    "    results = []\n",
    "    \n",
    "    for perm in perms:\n",
    "        \n",
    "        for i in range(len(s)):\n",
    "            results.append(perm[:i] + char + perm[i:])\n",
    "            \n",
    "    return results"
   ]
  },
  {
   "cell_type": "code",
   "execution_count": 4,
   "id": "602c06fb",
   "metadata": {},
   "outputs": [
    {
     "data": {
      "text/plain": [
       "['abc', 'bac', 'bca', 'acb', 'cab', 'cba']"
      ]
     },
     "execution_count": 4,
     "metadata": {},
     "output_type": "execute_result"
    }
   ],
   "source": [
    "permute1(\"abc\")"
   ]
  },
  {
   "cell_type": "markdown",
   "id": "6ee9996e",
   "metadata": {},
   "source": [
    "# Fibonacci Sequence"
   ]
  },
  {
   "cell_type": "code",
   "execution_count": 47,
   "id": "d52e377d",
   "metadata": {},
   "outputs": [],
   "source": [
    "#recursion\n",
    "def fib_rec(n):\n",
    "    \n",
    "    if n == 0:\n",
    "        return 0\n",
    "    elif n == 1 or n == 2:\n",
    "        return 1\n",
    "    else:\n",
    "        return (fib_rec(n-1) + fib_rec(n-2))"
   ]
  },
  {
   "cell_type": "code",
   "execution_count": 48,
   "id": "412da51c",
   "metadata": {
    "scrolled": true
   },
   "outputs": [
    {
     "data": {
      "text/plain": [
       "55"
      ]
     },
     "execution_count": 48,
     "metadata": {},
     "output_type": "execute_result"
    }
   ],
   "source": [
    "fib_rec(10)"
   ]
  },
  {
   "cell_type": "code",
   "execution_count": 49,
   "id": "e548b7cb",
   "metadata": {},
   "outputs": [
    {
     "data": {
      "text/plain": [
       "28657"
      ]
     },
     "execution_count": 49,
     "metadata": {},
     "output_type": "execute_result"
    }
   ],
   "source": [
    "fib_rec(23)"
   ]
  },
  {
   "cell_type": "code",
   "execution_count": 97,
   "id": "33d4562b",
   "metadata": {},
   "outputs": [
    {
     "data": {
      "text/plain": [
       "3"
      ]
     },
     "execution_count": 97,
     "metadata": {},
     "output_type": "execute_result"
    }
   ],
   "source": [
    "fib_rec(4)"
   ]
  },
  {
   "cell_type": "code",
   "execution_count": 66,
   "id": "34674cdf",
   "metadata": {},
   "outputs": [],
   "source": [
    "# for loop\n",
    "\n",
    "def fib(n):\n",
    "    a, b = 0, 1\n",
    "\n",
    "    for i in range(n):\n",
    "        a, b = b, a+b\n",
    "        \n",
    "    return a\n",
    "\n"
   ]
  },
  {
   "cell_type": "code",
   "execution_count": 67,
   "id": "dfc78c07",
   "metadata": {},
   "outputs": [
    {
     "data": {
      "text/plain": [
       "5"
      ]
     },
     "execution_count": 67,
     "metadata": {},
     "output_type": "execute_result"
    }
   ],
   "source": [
    "fib(5)"
   ]
  },
  {
   "cell_type": "code",
   "execution_count": 104,
   "id": "59f1c770",
   "metadata": {},
   "outputs": [],
   "source": [
    "######## Cache ##########\n",
    "\n",
    "n = 10 \n",
    "cache = [None]*(n+1)\n",
    "\n",
    "def fib_dyn(n):\n",
    "    \n",
    "    if n == 0 or n == 1:\n",
    "        return n\n",
    "    \n",
    "    #if cache[n] != None:\n",
    "        #return cache[n]\n",
    "    if n in cache:\n",
    "        return cache[n]\n",
    "    \n",
    "    cache[n] = (fib_dyn(n-1) + fib_dyn(n-2))\n",
    "    print(cache)\n",
    "    return cache[n]"
   ]
  },
  {
   "cell_type": "code",
   "execution_count": 105,
   "id": "303e002a",
   "metadata": {},
   "outputs": [
    {
     "name": "stdout",
     "output_type": "stream",
     "text": [
      "[None, None, 1, None, None, None, None, None, None, None, None]\n",
      "[None, None, 1, 2, None, None, None, None, None, None, None]\n",
      "[None, None, 1, 2, 3, None, None, None, None, None, None]\n",
      "[None, None, 1, 2, 3, 5, None, None, None, None, None]\n"
     ]
    },
    {
     "data": {
      "text/plain": [
       "5"
      ]
     },
     "execution_count": 105,
     "metadata": {},
     "output_type": "execute_result"
    }
   ],
   "source": [
    "fib_dyn(5) \n",
    "#0,1,1,2,3,5"
   ]
  },
  {
   "cell_type": "code",
   "execution_count": 89,
   "id": "4de0216f",
   "metadata": {},
   "outputs": [
    {
     "name": "stdout",
     "output_type": "stream",
     "text": [
      "128 ns ± 0.585 ns per loop (mean ± std. dev. of 7 runs, 10000000 loops each)\n",
      "10.5 µs ± 83.9 ns per loop (mean ± std. dev. of 7 runs, 100000 loops each)\n",
      "530 ns ± 3.93 ns per loop (mean ± std. dev. of 7 runs, 1000000 loops each)\n"
     ]
    }
   ],
   "source": [
    "import timeit\n",
    "%timeit fib_dyn(10) #THE FASTEST\n",
    "%timeit fib_rec(10)\n",
    "%timeit fib(10)"
   ]
  },
  {
   "cell_type": "markdown",
   "id": "40f482e5",
   "metadata": {},
   "source": [
    "# Coin Change Recursion\n"
   ]
  },
  {
   "cell_type": "code",
   "execution_count": 122,
   "id": "546ef8f8",
   "metadata": {},
   "outputs": [],
   "source": [
    "def rec_coin(target, coins):\n",
    "    \n",
    "    #Default value set to target\n",
    "    min_coins = target\n",
    "    \n",
    "    #Checks to see if target is in coin values list\n",
    "    if target in coins:\n",
    "        return 1\n",
    "    \n",
    "    else:\n",
    "        # For every coin value that is <= my target\n",
    "        for i in [c for c in coins if c<= target]:\n",
    "            # ADD a coin count + recursive\n",
    "            num_coins = 1 + rec_coin(target - i, coins)\n",
    "            #Reset minium if the new num_coins less than min_coins\n",
    "            if num_coins < min_coins:\n",
    "                min_coins = num_coins\n",
    "                \n",
    "    return min_coins\n",
    "    "
   ]
  },
  {
   "cell_type": "code",
   "execution_count": 146,
   "id": "809ea0d0",
   "metadata": {},
   "outputs": [
    {
     "data": {
      "text/plain": [
       "6"
      ]
     },
     "execution_count": 146,
     "metadata": {},
     "output_type": "execute_result"
    }
   ],
   "source": [
    "rec_coin(63,[1,5,10,25])"
   ]
  },
  {
   "cell_type": "code",
   "execution_count": 141,
   "id": "dcb469ff",
   "metadata": {},
   "outputs": [
    {
     "name": "stdout",
     "output_type": "stream",
     "text": [
      "22.3 s ± 29.4 ms per loop (mean ± std. dev. of 7 runs, 1 loop each)\n"
     ]
    }
   ],
   "source": [
    "%timeit rec_coin(63,[1,5,10,25])"
   ]
  },
  {
   "cell_type": "code",
   "execution_count": 147,
   "id": "41ea6d02",
   "metadata": {},
   "outputs": [],
   "source": [
    "def rec_coin_dynamic(target, coins, known_results):\n",
    "    #Default output to target\n",
    "    min_coins = target\n",
    "    \n",
    "    #Base case\n",
    "    if target in coins:\n",
    "        known_results[target] = 1\n",
    "        return 1\n",
    "    \n",
    "    #Return a known results if it happens to be greater than 1\n",
    "    elif known_results[target] > 0 :\n",
    "        return known_results[target]\n",
    "    \n",
    "    else:\n",
    "        \n",
    "        for i in [c for c in coins if c <= target]:\n",
    "            num_coins = 1 + rec_coin_dynamic(target-i, coins, known_results)\n",
    "        \n",
    "        if num_coins < min_coins:\n",
    "            min_coins = num_coins\n",
    "            known_results = min_coins\n",
    "        return min_coins\n",
    "    "
   ]
  },
  {
   "cell_type": "code",
   "execution_count": 148,
   "id": "5c105099",
   "metadata": {},
   "outputs": [
    {
     "data": {
      "text/plain": [
       "6"
      ]
     },
     "execution_count": 148,
     "metadata": {},
     "output_type": "execute_result"
    }
   ],
   "source": [
    "rec_coin_dynamic(63,[1,5,10,25],[0]*(64))"
   ]
  },
  {
   "cell_type": "code",
   "execution_count": 149,
   "id": "26b8fd16",
   "metadata": {},
   "outputs": [
    {
     "name": "stdout",
     "output_type": "stream",
     "text": [
      "24.4 s ± 79 ms per loop (mean ± std. dev. of 7 runs, 1 loop each)\n"
     ]
    }
   ],
   "source": [
    "%timeit rec_coin_dynamic(63,[1,5,10,25],[0]*(64))"
   ]
  },
  {
   "cell_type": "code",
   "execution_count": null,
   "id": "12c949cf",
   "metadata": {},
   "outputs": [],
   "source": []
  }
 ],
 "metadata": {
  "kernelspec": {
   "display_name": "Python 3",
   "language": "python",
   "name": "python3"
  },
  "language_info": {
   "codemirror_mode": {
    "name": "ipython",
    "version": 3
   },
   "file_extension": ".py",
   "mimetype": "text/x-python",
   "name": "python",
   "nbconvert_exporter": "python",
   "pygments_lexer": "ipython3",
   "version": "3.8.8"
  }
 },
 "nbformat": 4,
 "nbformat_minor": 5
}
